{
  "nbformat": 4,
  "nbformat_minor": 0,
  "metadata": {
    "colab": {
      "provenance": []
    },
    "kernelspec": {
      "name": "python3",
      "display_name": "Python 3"
    },
    "language_info": {
      "name": "python"
    }
  },
  "cells": [
    {
      "cell_type": "code",
      "execution_count": null,
      "metadata": {
        "colab": {
          "base_uri": "https://localhost:8080/",
          "height": 670
        },
        "id": "Q9u0NdstkG1c",
        "outputId": "b2649d77-f437-44b7-929f-b09d9df1c953"
      },
      "outputs": [
        {
          "output_type": "stream",
          "name": "stdout",
          "text": [
            "Classification Report:\n",
            "               precision    recall  f1-score   support\n",
            "\n",
            "           0       0.66      0.45      0.53   1565214\n",
            "           1       0.58      0.77      0.66   1557646\n",
            "\n",
            "    accuracy                           0.61   3122860\n",
            "   macro avg       0.62      0.61      0.60   3122860\n",
            "weighted avg       0.62      0.61      0.60   3122860\n",
            "\n"
          ]
        },
        {
          "output_type": "display_data",
          "data": {
            "text/plain": [
              "<Figure size 600x400 with 2 Axes>"
            ],
            "image/png": "[encoded data removed]"
          },
          "metadata": {}
        },
        {
          "output_type": "stream",
          "name": "stdout",
          "text": [
            "Accuracy: 0.6074159584483454\n",
            "Precision: 0.5806847601480862\n",
            "Recall: 0.766204259504406\n",
            "F1 Score: 0.6606678503764946\n",
            "Predicted value for the custom sample: [1]\n"
          ]
        }
      ],
      "source": [
        "import pandas as pd\n",
        "import numpy as np\n",
        "import seaborn as sns\n",
        "import matplotlib.pyplot as plt\n",
        "from sklearn.model_selection import train_test_split\n",
        "from sklearn.naive_bayes import GaussianNB\n",
        "from sklearn.metrics import classification_report, confusion_matrix\n",
        "\n",
        "# Load data\n",
        "merged_data = pd.read_csv('/content/drive/MyDrive/Colab Notebooks/Merged_UniSolar_Data_Interpolated.csv')\n",
        "\n",
        "# Data preprocessing\n",
        "merged_data = merged_data.drop(columns=['ApparentTemperature', 'AverageSolarGeneration', 'MinSolarGeneration'])\n",
        "\n",
        "X = merged_data.drop(columns=['MaxSolarGeneration'])\n",
        "y = merged_data['MaxSolarGeneration']\n",
        "\n",
        "X = pd.get_dummies(X, columns=['Month', 'DataStatus'], drop_first=True)\n",
        "\n",
        "# Train-test split\n",
        "X_train, X_test, y_train, y_test = train_test_split(X, y, test_size=0.3, random_state=42)\n",
        "\n",
        "# Binning target variable\n",
        "n_bins = 2\n",
        "y_binned = pd.qcut(y, q=n_bins, labels=False, duplicates='drop').fillna(pd.qcut(y, q=n_bins, labels=False, duplicates='drop').mode()[0])\n",
        "\n",
        "# Re-apply the train-test split\n",
        "X_train, X_test, y_train, y_test = train_test_split(X, y_binned, test_size=0.2, random_state=42)\n",
        "\n",
        "# Drop missing values in X_train and X_test\n",
        "X_train, y_train = X_train.dropna(), y_train[X_train.index]\n",
        "X_test, y_test = X_test.dropna(), y_test[X_test.index]\n",
        "\n",
        "# Naive Bayes model\n",
        "nb_model = GaussianNB()\n",
        "nb_model.fit(X_train, y_train)\n",
        "\n",
        "# Predictions\n",
        "y_pred = nb_model.predict(X_test)\n",
        "\n",
        "# Classification report and confusion matrix\n",
        "print(\"Classification Report:\\n\", classification_report(y_test, y_pred))\n",
        "\n",
        "conf_matrix = confusion_matrix(y_test, y_pred)\n",
        "plt.figure(figsize=(6, 4))\n",
        "sns.heatmap(conf_matrix, annot=True, fmt='d', cmap='Blues', xticklabels=['Predicted 0', 'Predicted 1'], yticklabels=['Actual 0', 'Actual 1'])\n",
        "plt.title('Confusion Matrix')\n",
        "plt.xlabel('Predicted')\n",
        "plt.ylabel('Actual')\n",
        "plt.show()\n",
        "\n",
        "# Evaluation metrics\n",
        "accuracy = (conf_matrix[0, 0] + conf_matrix[1, 1]) / conf_matrix.sum()\n",
        "precision = conf_matrix[1, 1] / (conf_matrix[1, 1] + conf_matrix[0, 1]) if (conf_matrix[1, 1] + conf_matrix[0, 1]) != 0 else 0\n",
        "recall = conf_matrix[1, 1] / (conf_matrix[1, 1] + conf_matrix[1, 0]) if (conf_matrix[1, 1] + conf_matrix[1, 0]) != 0 else 0\n",
        "f1_score = (2 * precision * recall) / (precision + recall) if (precision + recall) != 0 else 0\n",
        "\n",
        "print('Accuracy:', accuracy)\n",
        "print('Precision:', precision)\n",
        "print('Recall:', recall)\n",
        "print('F1 Score:', f1_score)\n",
        "\n",
        "# Custom sample prediction\n",
        "custom_sample = pd.DataFrame({\n",
        "    'AirTemperature': [15.0],\n",
        "    'DewPointTemperature': [10.0],\n",
        "    'RelativeHumidity': [80.0],\n",
        "    'WindSpeed': [5.0],\n",
        "    'WindDirection': [180.0],\n",
        "    'Year': [2020],\n",
        "    'Month': ['January'],\n",
        "    'SiteKey': [1],\n",
        "})\n",
        "\n",
        "custom_sample = pd.get_dummies(custom_sample, drop_first=True)\n",
        "custom_sample = custom_sample.reindex(columns=X_train.columns, fill_value=0)\n",
        "\n",
        "predicted_value = nb_model.predict(custom_sample)\n",
        "print(\"Predicted value for the custom sample:\", predicted_value)\n"
      ]
    },
    {
      "cell_type": "code",
      "source": [
        "# Print the size of each bin\n",
        "print(\"Size of each bin:\")\n",
        "print(y_binned.value_counts())"
      ],
      "metadata": {
        "colab": {
          "base_uri": "https://localhost:8080/"
        },
        "id": "4vxuKwj2l99p",
        "outputId": "d62d7ca0-1d47-4d90-efe4-58e3d766424d"
      },
      "execution_count": null,
      "outputs": [
        {
          "output_type": "stream",
          "name": "stdout",
          "text": [
            "Size of each bin:\n",
            "MaxSolarGeneration\n",
            "0    7828060\n",
            "1    7786238\n",
            "Name: count, dtype: int64\n"
          ]
        }
      ]
    }
  ]
}